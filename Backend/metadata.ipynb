{
 "cells": [
  {
   "cell_type": "code",
   "execution_count": 60,
   "metadata": {},
   "outputs": [
    {
     "name": "stderr",
     "output_type": "stream",
     "text": [
      "[pdf2doi]: Trying to retrieve a DOI/identifier for the file: 2010.13061.pdf\n",
      "[pdf2doi]: Method #1: Looking for a valid identifier in the document infos...\n",
      "[pdf2doi]: Standardised DOI: 10.48550/arXiv.2010.13061 -> 10.48550/arxiv.2010.13061\n",
      "[pdf2doi]: Validating the possible DOI 10.48550/arxiv.2010.13061 via a query to dx.doi.org...\n",
      "[pdf2doi]: The DOI 10.48550/arxiv.2010.13061 is validated by dx.doi.org.\n",
      "[pdf2doi]: Standardised DOI: 10.48550/arXiv.2010.13061 -> 10.48550/arxiv.2010.13061\n",
      "[pdf2doi]: A valid DOI was found in the document info labelled '/pdf2doi_identifier'.\n"
     ]
    },
    {
     "name": "stdout",
     "output_type": "stream",
     "text": [
      "Metadata saved to 2010.13061.pdf_metadata.json\n"
     ]
    }
   ],
   "source": [
    "import requests\n",
    "import json\n",
    "from pdf2doi import pdf2doi\n",
    "import os\n",
    "\n",
    "def fetch_doi_metadata(doi):\n",
    "    headers = {\n",
    "        \"Accept\": \"application/vnd.citationstyles.csl+json\"\n",
    "    }\n",
    "    url = f\"https://doi.org/{doi}\"\n",
    "    \n",
    "    try:\n",
    "        response = requests.get(url, headers=headers)\n",
    "        response.raise_for_status()  # Raises an error for bad responses (4XX, 5XX)\n",
    "        metadata = response.json()\n",
    "        return metadata\n",
    "    except requests.RequestException as e:\n",
    "        print(f\"Error fetching metadata for DOI {doi}: {e}\")\n",
    "        return None\n",
    "\n",
    "def save_metadata_to_json(metadata, filename):\n",
    "    # Check if the file already exists\n",
    "    if not os.path.exists(filename):\n",
    "        # File does not exist, create and write metadata\n",
    "        with open(filename, 'w', encoding='utf-8') as f:\n",
    "            json.dump(metadata, f, indent=4, ensure_ascii=False)\n",
    "        print(f\"Metadata saved to {filename}\")\n",
    "    else:\n",
    "        # File exists, do nothing\n",
    "        print(f\"File {filename} already exists. No action taken.\")\n",
    "\n",
    "file_path = '2010.13061.pdf'\n",
    "data = pdf2doi(file_path)\n",
    "if(data['identifier'] != None):\n",
    "    doi = data['identifier']\n",
    "    metadata = fetch_doi_metadata(doi)\n",
    "    save_metadata_to_json(metadata, file_path + '_metadata.json')\n",
    "else:\n",
    "    save_metadata_to_json(data['validation_info'], file_path + '_metadata.json')"
   ]
  },
  {
   "cell_type": "code",
   "execution_count": 57,
   "metadata": {},
   "outputs": [],
   "source": [
    "file_path = '2010.13061.pdf'\n",
    "metadata = file_path + '_metadata.json'"
   ]
  },
  {
   "cell_type": "code",
   "execution_count": 58,
   "metadata": {},
   "outputs": [
    {
     "data": {
      "text/plain": [
       "'2010.13061.pdf_metadata.json'"
      ]
     },
     "execution_count": 58,
     "metadata": {},
     "output_type": "execute_result"
    }
   ],
   "source": [
    "metadata"
   ]
  },
  {
   "cell_type": "code",
   "execution_count": null,
   "metadata": {},
   "outputs": [],
   "source": []
  }
 ],
 "metadata": {
  "kernelspec": {
   "display_name": "Python 3",
   "language": "python",
   "name": "python3"
  },
  "language_info": {
   "codemirror_mode": {
    "name": "ipython",
    "version": 3
   },
   "file_extension": ".py",
   "mimetype": "text/x-python",
   "name": "python",
   "nbconvert_exporter": "python",
   "pygments_lexer": "ipython3",
   "version": "3.11.4"
  }
 },
 "nbformat": 4,
 "nbformat_minor": 2
}
